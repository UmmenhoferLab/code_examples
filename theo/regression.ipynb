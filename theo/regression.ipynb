{
 "cells": [
  {
   "cell_type": "code",
   "execution_count": 1,
   "id": "1214eeed-3820-4af9-89d8-660d79cafea0",
   "metadata": {},
   "outputs": [],
   "source": [
    "import xarray as xr\n",
    "import numpy as np\n",
    "import pandas as pd\n",
    "import cmocean\n",
    "import matplotlib.pyplot as plt\n",
    "import seaborn as sns\n",
    "\n",
    "sns.set()\n",
    "\n",
    "######## Functions for regression #############\n",
    "\n",
    "\n",
    "### Core functions (numpy)\n",
    "def regress_numpy(x, Y):\n",
    "    \"\"\"Function solves least-squares to get coefficients for linear projection of x onto Y\n",
    "    returns coef, a vector of the best-fit coefficients\"\"\"\n",
    "\n",
    "    ## Add array of ones to feature vector (to represent constant term in linear model)\n",
    "    x = add_constant(x)\n",
    "\n",
    "    ## Get coefficients for best linear fit\n",
    "    coef = np.linalg.inv(x.T @ x) @ x.T @ Y\n",
    "\n",
    "    return coef\n",
    "\n",
    "\n",
    "def corr_numpy(x, Y):\n",
    "    \"\"\"Get correlation between many timeseries (Y) and single timeseries (x)\"\"\"\n",
    "    Y = Y - np.nanmean(Y, axis=0)\n",
    "    x = x - np.nanmean(x)\n",
    "    Y[np.isnan(Y)] = 0.0\n",
    "    x[np.isnan(x)] = 0.0\n",
    "    r = (x.T @ Y) / np.sqrt(np.sum(Y**2, axis=0) * np.dot(x, x))\n",
    "    return r\n",
    "\n",
    "\n",
    "def add_constant(x):\n",
    "    \"\"\"Add a column of ones to matrix, representing constant coefficient for mat. mult.\"\"\"\n",
    "    x = np.append(x, np.ones([x.shape[0], 1]), axis=1)\n",
    "    return x\n",
    "\n",
    "\n",
    "def stack_other_dims(data, dim):\n",
    "    \"\"\"stack all dimensions in 'data' except for 'dim'\"\"\"\n",
    "\n",
    "    ## Get names of other dimensions\n",
    "    other_dims = [d for d in data.dims if d != dim]\n",
    "\n",
    "    ## Stack the non-regression dimensions, if they exist\n",
    "    if len(other_dims) > 0:\n",
    "        data_stack = data.stack(other_dims=other_dims)\n",
    "    else:\n",
    "        data_stack = data\n",
    "\n",
    "    return data_stack\n",
    "\n",
    "\n",
    "### 'wrapper' functions for using xarray\n",
    "def regress(idx, data):\n",
    "    \"\"\"\n",
    "    Regress multidimensional 'data' against 1-D index called 'idx'.\n",
    "    'idx' and 'data' must have a dimension in common (used for regression).\n",
    "    \"\"\"\n",
    "\n",
    "    ## Identify regression dimension\n",
    "    regr_dim = idx.dims[0]\n",
    "\n",
    "    ## Stack other dimensions\n",
    "    data_stack = stack_other_dims(data, dim=regr_dim)\n",
    "\n",
    "    ## Empty array to hold coefficients\n",
    "    coefs = data_stack.isel({regr_dim: slice(None, 2)})\n",
    "    coefs = coefs.rename({regr_dim: \"coef\"})\n",
    "    coefs[\"coef\"] = pd.Index([\"m\", \"b\"], name=\"coef\")\n",
    "\n",
    "    ## perform regression\n",
    "    coefs.values = regress_numpy(idx.values[:, None], data_stack.values)\n",
    "\n",
    "    return coefs.unstack()\n",
    "\n",
    "\n",
    "def get_bestfit(idx_vals, coefs):\n",
    "    \"\"\"\n",
    "    Get best-fit line, given index values and regression coefficients.\n",
    "    idx_vals is 1-D xr.DataArray\n",
    "    \"\"\"\n",
    "\n",
    "    ## convert idx to dataarray if necessary\n",
    "    if type(idx_vals) is not xr.DataArray:\n",
    "        idx_vals = xr.DataArray(idx_vals, coords={\"idx\": idx_vals})\n",
    "\n",
    "    ## expand coefs array to match idx_vals\n",
    "    dim = idx_vals.dims[0]\n",
    "    coefs = coefs.expand_dims({dim: idx_vals[dim]})\n",
    "\n",
    "    ## Get best fit\n",
    "    m = coefs.sel(coef=\"m\")\n",
    "    b = coefs.sel(coef=\"b\")\n",
    "    best_fit = idx_vals * m + b\n",
    "\n",
    "    return best_fit\n",
    "\n",
    "\n",
    "def corr(idx, data):\n",
    "    \"\"\"\n",
    "    Compute correlation between 'idx' and every gridpoint in 'data'\n",
    "    \"\"\"\n",
    "\n",
    "    ## Stack the non-regression dimensions\n",
    "    corr_dim = idx.dims[0]\n",
    "    data_stack = stack_other_dims(data, dim=corr_dim)\n",
    "\n",
    "    ## Empty array to hold results\n",
    "    corr_ = data_stack.isel({corr_dim: 0}, drop=True)\n",
    "\n",
    "    ## compute correlation\n",
    "    corr_.values = corr_numpy(idx.values, data_stack.values)\n",
    "\n",
    "    return corr_.unstack()\n",
    "\n",
    "\n",
    "############# Funcs. to make random data and plot ###############\n",
    "\n",
    "\n",
    "def make_random_data(nt=100, nlat=2, nlon=3):\n",
    "    \"\"\"\n",
    "    Create synthetic data with dimensions (time x latitude x longitude).\n",
    "    Each gridpoint depends linearly on a randomly created index with 'nt' samples.\n",
    "    Parameters of the linear models are randomly selected.\n",
    "    \"\"\"\n",
    "\n",
    "    ## Create random index\n",
    "    idx = np.random.randn(nt, 1, 1)\n",
    "\n",
    "    ## Create coefficients for linear model\n",
    "    m = np.random.randn(1, nlat, nlon)\n",
    "    b = 0.3 * np.random.randn(1, nlat, nlon)\n",
    "\n",
    "    ## Create random data based on linear model\n",
    "    data = idx * m + b\n",
    "\n",
    "    ## Add some noise\n",
    "    data += 0.4 * np.random.randn(nt, nlat, nlon)\n",
    "\n",
    "    ## Create labels for dimensions\n",
    "    time = pd.date_range(start=\"1900-01-01\", freq=\"1M\", periods=nt)\n",
    "    lat = np.linspace(0, 5, nlat)\n",
    "    lon = np.linspace(0, 9, nlon)\n",
    "\n",
    "    ## put data in xarray\n",
    "    idx = xr.DataArray(idx.squeeze(), coords={\"time\": time}, dims=[\"time\"])\n",
    "    data = xr.DataArray(\n",
    "        data, coords={\"time\": time, \"lat\": lat, \"lon\": lon}, dims=[\"time\", \"lat\", \"lon\"]\n",
    "    )\n",
    "    return idx, data\n",
    "\n",
    "\n",
    "def plot_data_and_fit(idx, data, coefs):\n",
    "    \"\"\"Plot random data and best fit lines\"\"\"\n",
    "\n",
    "    ## Get best fit line\n",
    "    # First, interpolate idx values (to make smooth line)\n",
    "    idx_vals = np.linspace(idx.min(), idx.max())\n",
    "\n",
    "    # Compute the best fit line\n",
    "    bestfit = get_bestfit(idx_vals, coefs)\n",
    "\n",
    "    ## Set up the plot\n",
    "    fig, ax = plt.subplots(figsize=(3.5, 3.5))\n",
    "\n",
    "    ax.axhline(0, ls=\"--\", lw=0.5, c=\"k\")\n",
    "    ax.axvline(0, ls=\"--\", lw=0.5, c=\"k\")\n",
    "\n",
    "    ## Plot two samples\n",
    "    for lon_ in data[\"lon\"][:2]:\n",
    "        ## label data for each gridpoint with different color\n",
    "        lon_label = f\"{lon_.values.item():.0f}\" + r\"$^\\circ E$\"\n",
    "        lat_label = f\"{data.lat.isel(lat=0).values.item():.0f}\" + r\"$^\\circ N$\"\n",
    "        label = f\"{lon_label}, {lat_label}\"\n",
    "\n",
    "        ## scatter data\n",
    "        p = ax.scatter(idx, data.sel(lon=lon_, lat=0), s=5)\n",
    "\n",
    "        ## Plot best fit line\n",
    "        ax.plot(idx_vals, bestfit.sel(lon=lon_, lat=0), label=label)\n",
    "\n",
    "    ax.legend()\n",
    "    ax.set_xlabel(\"Index\")\n",
    "    ax.set_ylabel(\"Data\")\n",
    "\n",
    "    return fig, ax"
   ]
  },
  {
   "cell_type": "markdown",
   "id": "96f098fd-45dc-4cca-963f-753cbd4b7e30",
   "metadata": {},
   "source": [
    "## Generate random data, fit regression model, and plot"
   ]
  },
  {
   "cell_type": "code",
   "execution_count": 2,
   "id": "9a666bcd-120e-40c2-8f35-0a9ee0402bde",
   "metadata": {
    "tags": []
   },
   "outputs": [],
   "source": [
    "## Create random data\n",
    "idx, data = make_random_data()\n",
    "\n",
    "## Get regression coefficients\n",
    "coefs = regress(idx, data)\n",
    "\n",
    "## Compute correlation\n",
    "corrs = corr(idx, data)"
   ]
  },
  {
   "cell_type": "markdown",
   "id": "9657389a-4b38-455d-9df5-4dbc40777e51",
   "metadata": {},
   "source": [
    "## Check regression/correlation against sklearn/scipy.stats"
   ]
  },
  {
   "cell_type": "code",
   "execution_count": 3,
   "id": "1f7716db-ac0a-4989-ba83-1fa990b86a49",
   "metadata": {},
   "outputs": [
    {
     "name": "stdout",
     "output_type": "stream",
     "text": [
      "All close? True.\n"
     ]
    }
   ],
   "source": [
    "import sklearn.linear_model\n",
    "import scipy.stats\n",
    "\n",
    "## empty list to hold boolean result of comparison\n",
    "is_close = []\n",
    "\n",
    "## Loop through lats/lons to check they match\n",
    "for lat in data.lat:\n",
    "    for lon in data.lon:\n",
    "        ## Get single timeseries at specified point\n",
    "        data_ = data.sel(lat=lat, lon=lon).values\n",
    "\n",
    "        ## Retrieve regression coef / correlation using custom function\n",
    "        r_custom = corrs.sel(lat=lat, lon=lon).values.item()\n",
    "        m_custom = coefs.sel(coef=\"m\", lat=lat, lon=lon).values.item()\n",
    "        b_custom = coefs.sel(coef=\"b\", lat=lat, lon=lon).values.item()\n",
    "\n",
    "        ## Compute regression coefficient using sklearn\n",
    "        lm = sklearn.linear_model.LinearRegression()\n",
    "        lm.fit(idx.values[:, None], data_)\n",
    "        m_sklearn = lm.coef_.item()\n",
    "        b_sklearn = lm.intercept_.item()\n",
    "\n",
    "        ## Compute correlation using scipy\n",
    "        r_scipy = scipy.stats.pearsonr(data_, idx)[0]\n",
    "\n",
    "        ## Check if they're close\n",
    "        is_close.append(np.isclose(r_custom, r_scipy))\n",
    "        is_close.append(np.isclose(m_custom, m_sklearn))\n",
    "        is_close.append(np.isclose(b_custom, b_sklearn))\n",
    "\n",
    "print(f\"All close? {np.array(is_close).all()}.\")"
   ]
  },
  {
   "cell_type": "markdown",
   "id": "b84995e9-3c3c-48e3-bd3d-b4e6a8ad0e2c",
   "metadata": {
    "tags": []
   },
   "source": [
    "## Plot data and best fit line"
   ]
  },
  {
   "cell_type": "code",
   "execution_count": 4,
   "id": "bb721c60-73ad-4ed7-bfad-28cf8f49f002",
   "metadata": {
    "tags": []
   },
   "outputs": [
    {
     "data": {
      "image/png": "[encoded data removed]",
      "text/plain": [
       "<Figure size 350x350 with 1 Axes>"
      ]
     },
     "metadata": {},
     "output_type": "display_data"
    }
   ],
   "source": [
    "fig, ax = plot_data_and_fit(idx=idx, data=data, coefs=coefs)\n",
    "plt.show()"
   ]
  },
  {
   "cell_type": "markdown",
   "id": "47563dcf-532d-450b-9d55-52840bad1f74",
   "metadata": {},
   "source": [
    "## Plot regression coefficients"
   ]
  },
  {
   "cell_type": "code",
   "execution_count": 5,
   "id": "34302c95-bc56-4cfe-9ea9-6c12d78ef93b",
   "metadata": {},
   "outputs": [
    {
     "data": {
      "image/png": "[encoded data removed]",
      "text/plain": [
       "<Figure size 300x180 with 2 Axes>"
      ]
     },
     "metadata": {},
     "output_type": "display_data"
    }
   ],
   "source": [
    "fig, ax = plt.subplots(figsize=(3, 1.8))\n",
    "ax.set_aspect(\"equal\")\n",
    "\n",
    "## Labels\n",
    "ax.set_title(\"Regression coef.\")\n",
    "ax.set_xlabel(\"Longitude\")\n",
    "ax.set_ylabel(\"Latitude\")\n",
    "\n",
    "## Grid for plotting\n",
    "xgrid, ygrid = np.meshgrid(data.lon.values, data.lat.values)\n",
    "\n",
    "## Plot data\n",
    "p = ax.pcolormesh(\n",
    "    xgrid, ygrid, coefs.sel(coef=\"m\"), cmap=\"cmo.balance\", vmax=2, vmin=-2\n",
    ")\n",
    "\n",
    "## Make colorbar\n",
    "cb = fig.colorbar(p)\n",
    "\n",
    "plt.show()"
   ]
  },
  {
   "cell_type": "markdown",
   "id": "560f6743-986a-415f-8e56-4dd16cc48b48",
   "metadata": {},
   "source": [
    "## Plot correlation"
   ]
  },
  {
   "cell_type": "code",
   "execution_count": 6,
   "id": "fad8c1d7-e5b5-4c64-bb1c-82c3843e9215",
   "metadata": {},
   "outputs": [
    {
     "data": {
      "image/png": "[encoded data removed]",
      "text/plain": [
       "<Figure size 300x180 with 2 Axes>"
      ]
     },
     "metadata": {},
     "output_type": "display_data"
    }
   ],
   "source": [
    "fig, ax = plt.subplots(figsize=(3, 1.8))\n",
    "ax.set_aspect(\"equal\")\n",
    "\n",
    "## Labels\n",
    "ax.set_title(\"Correlation coef.\")\n",
    "ax.set_xlabel(\"Longitude\")\n",
    "ax.set_ylabel(\"Latitude\")\n",
    "\n",
    "## Grid for plotting\n",
    "xgrid, ygrid = np.meshgrid(data.lon.values, data.lat.values)\n",
    "\n",
    "## Plot data\n",
    "p = ax.pcolormesh(xgrid, ygrid, corrs, cmap=\"cmo.balance\", vmax=1, vmin=-1)\n",
    "\n",
    "## Make colorbar\n",
    "cb = fig.colorbar(p)\n",
    "\n",
    "plt.show()"
   ]
  }
 ],
 "metadata": {
  "kernelspec": {
   "display_name": "Python 3 (ipykernel)",
   "language": "python",
   "name": "python3"
  },
  "language_info": {
   "codemirror_mode": {
    "name": "ipython",
    "version": 3
   },
   "file_extension": ".py",
   "mimetype": "text/x-python",
   "name": "python",
   "nbconvert_exporter": "python",
   "pygments_lexer": "ipython3",
   "version": "3.11.4"
  }
 },
 "nbformat": 4,
 "nbformat_minor": 5
}
