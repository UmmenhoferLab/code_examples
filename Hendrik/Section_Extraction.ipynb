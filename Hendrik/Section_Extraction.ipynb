{
 "cells": [
  {
   "cell_type": "code",
   "execution_count": 7,
   "id": "141a7689-ebea-49f1-96ba-a7f0c25b2259",
   "metadata": {},
   "outputs": [],
   "source": [
    "# import necessary libraries\n",
    "import numpy as np # library for numerical computing with arrays\n",
    "import xarray as xr # library for working with labeled multidimensional arrays\n",
    "import math # library for common math functions\n",
    "from math import radians, cos, sin, asin, sqrt\n",
    "\n",
    "def find_nearest(array, value):\n",
    "    '''\n",
    "    finds value and idx of value in array that is closest to the looked for value\n",
    "    '''\n",
    "    array = np.asarray(array)\n",
    "    idx = np.unravel_index(np.abs(array - value).argmin(), array.shape)\n",
    "    return array[idx],idx\n",
    "\n",
    "def haversine(lon1, lat1, lon2, lat2):\n",
    "    \"\"\"\n",
    "    Calculate the great circle distance in kilometers between two points \n",
    "    on the earth (specified in decimal degrees)\n",
    "    \"\"\"\n",
    "    # convert decimal degrees to radians \n",
    "    lon1, lat1, lon2, lat2 = map(radians, [lon1, lat1, lon2, lat2])\n",
    "\n",
    "    # haversine formula \n",
    "    dlon = lon2 - lon1 \n",
    "    dlat = lat2 - lat1 \n",
    "    a = sin(dlat/2)**2 + cos(lat1) * cos(lat2) * sin(dlon/2)**2\n",
    "    c = 2 * asin(sqrt(a)) \n",
    "    r = 6371 # Radius of earth in kilometers. Use 3956 for miles. Determines return value units.\n",
    "    return c * r\n",
    "\n",
    "def unique(sequence):\n",
    "    '''\n",
    "    finds unique values of array while keeping the order of values in array\n",
    "    (set() orders values in increasing way)\n",
    "    '''\n",
    "    seen = set()\n",
    "    return [x for x in sequence if not (x in seen or seen.add(x))]\n",
    "\n",
    "def section_indices(data,point1,point2):\n",
    "    '''\n",
    "    get x,y indices of section between latlon point1 and point2\n",
    "    \n",
    "    uses haversine distance to look for closest points on latlon grid to given latlon point\n",
    "    \n",
    "    first defines straight latlon line between point1 and point2\n",
    "    \n",
    "    then looks for closest points on grids to this line\n",
    "    \n",
    "    straight line has higher resolution than grid, so we discard all the x,y points that appear twice\n",
    "    '''\n",
    "    lat = np.asarray(data.ULAT.data)\n",
    "    lon = np.asarray(data.ULONG.data)\n",
    "    \n",
    "    if len(lat.shape) == 1 & len(lon.shape) == 1:\n",
    "        lon,lat = np.meshgrid(lon,lat)\n",
    "    \n",
    "    lat1,lon1 = point1\n",
    "    lat2,lon2 = point2\n",
    "    \n",
    "\n",
    "    f = np.frompyfunc(haversine,4,1)\n",
    "    value, indices1 = find_nearest(f(lon,lat,lon1,lat1).astype(float),0)\n",
    "    value, indices2 = find_nearest(f(lon,lat,lon2,lat2).astype(float),0)\n",
    "\n",
    "    x_dist = np.abs(indices1[1] - indices2[1]) \n",
    "    y_dist = np.abs(indices1[0] - indices2[0]) \n",
    "\n",
    "    dist_max = max(x_dist,y_dist)\n",
    "\n",
    "    if (lat1-lat2) == 0:\n",
    "        longitudes = np.linspace(lon1, lon2, dist_max*2)\n",
    "        latitudes = np.ones(dist_max*2)*lat1\n",
    "    elif (lon1-lon2) == 0:\n",
    "        latitudes = np.linspace(lat1, lat2, dist_max*2)\n",
    "        longitudes = np.ones(dist_max*2)*lon1\n",
    "    else:\n",
    "        latitudes = np.linspace(lat1, lat2, dist_max*2)\n",
    "        longitudes = (lon2 - lon1)/(lat2 - lat1)*(latitudes - lat1) + lon1\n",
    "\n",
    "    # x_idx = []\n",
    "    # y_idx = []\n",
    "    indices = []\n",
    "    \n",
    "    for i in range(dist_max*2):\n",
    "        dummy = find_nearest(f(lon,lat,longitudes[i],latitudes[i]).astype(float),0)[1]\n",
    "        # x_idx.append(dummy[1])\n",
    "        # y_idx.append(dummy[0])\n",
    "        indices.append((dummy[1],dummy[0]))\n",
    "    indices = unique(indices)\n",
    "    x_idx = [x[0] for x in indices]\n",
    "    y_idx = [x[1] for x in indices]\n",
    "    \n",
    "    return x_idx,y_idx,latitudes,longitudes"
   ]
  },
  {
   "cell_type": "code",
   "execution_count": 4,
   "id": "5dc01430-764a-47c7-a3a7-5304b01bf25e",
   "metadata": {},
   "outputs": [],
   "source": [
    "grid = xr.open_dataset('/glade/work/fredc/metric/grid/POP_tx0.1v3_grid.nc',\n",
    "                         chunks={'nlon':50,'nlat':50})\n",
    "\n",
    "mask = grid.isel(nlon=slice(1100,1500),nlat=slice(650,850)).load()"
   ]
  },
  {
   "cell_type": "code",
   "execution_count": 5,
   "id": "5928bba8-c5aa-48b8-b4fa-a65b19c7e4ae",
   "metadata": {},
   "outputs": [],
   "source": [
    "lat_min_West = -45\n",
    "lat_max_West = -33\n",
    "lon_min_West = 3\n",
    "lon_max_West = 8\n",
    "\n",
    "lat_min_Northwest = -33\n",
    "lat_max_Northwest = -33\n",
    "lon_min_Northwest = 8\n",
    "lon_max_Northwest = 18"
   ]
  },
  {
   "cell_type": "code",
   "execution_count": 11,
   "id": "97d53f10-f933-4ce2-b9d5-1963e7a96183",
   "metadata": {},
   "outputs": [],
   "source": [
    "x_idx_West,y_idx_West,latitudes,longitudes = section_indices(mask,(lat_min_West,lon_min_West),(lat_max_West,lon_max_West))\n",
    "x_idx_Northwest,y_idx_Northwest,latitudes,longitudes = section_indices(mask,(lat_min_Northwest,lon_min_Northwest),(lat_max_Northwest,lon_max_Northwest))"
   ]
  },
  {
   "cell_type": "code",
   "execution_count": 12,
   "id": "72e493c3-27b8-489e-993f-24a2832cb3db",
   "metadata": {},
   "outputs": [
    {
     "data": {
      "text/plain": [
       "[<matplotlib.lines.Line2D at 0x2b538b41ff10>]"
      ]
     },
     "execution_count": 12,
     "metadata": {},
     "output_type": "execute_result"
    },
    {
     "data": {
      "image/png": "[encoded data removed]",
      "text/plain": [
       "<Figure size 640x480 with 2 Axes>"
      ]
     },
     "metadata": {},
     "output_type": "display_data"
    }
   ],
   "source": [
    "mask.umask[0,:,:].plot()\n",
    "plt.plot(x_idx_West,y_idx_West)\n",
    "plt.plot(x_idx_Northwest,y_idx_Northwest)"
   ]
  }
 ],
 "metadata": {
  "kernelspec": {
   "display_name": "Python [conda env:miniconda3-jlab]",
   "language": "python",
   "name": "conda-env-miniconda3-jlab-py"
  },
  "language_info": {
   "codemirror_mode": {
    "name": "ipython",
    "version": 3
   },
   "file_extension": ".py",
   "mimetype": "text/x-python",
   "name": "python",
   "nbconvert_exporter": "python",
   "pygments_lexer": "ipython3",
   "version": "3.10.10"
  }
 },
 "nbformat": 4,
 "nbformat_minor": 5
}
