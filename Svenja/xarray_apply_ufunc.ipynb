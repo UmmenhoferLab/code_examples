{
 "cells": [
  {
   "cell_type": "markdown",
   "id": "8fbc8d47",
   "metadata": {},
   "source": [
    "# Demonstration of xarray apply_ufunc  \n",
    "Allows to apply functions to each point in specific dimension, e.g. perform a correlation at each lat,lon grid point or as shown below convert salinities along each profile. By using dask the tasks are parallelized and the computation is pretty quick. "
   ]
  },
  {
   "cell_type": "code",
   "execution_count": 4,
   "id": "21393a42",
   "metadata": {},
   "outputs": [],
   "source": [
    "import xarray as xr\n",
    "import numpy as np \n",
    "import dask\n",
    "import gsw  # Gibbs Seawater library (have to install first likely)\n",
    "\n",
    "\n",
    "# load dataset\n",
    "woa = xr.open_dataset('./data/woa_example_data.nc')"
   ]
  },
  {
   "cell_type": "code",
   "execution_count": 14,
   "id": "80f3b056",
   "metadata": {},
   "outputs": [],
   "source": [
    "# 1) Derive absolute salinity from practical salinity and conservative temperature from in-situ temperature\n",
    "# output size does not change\n",
    "\n",
    "##Absolute Salinity\n",
    "# create function which is called by apply_ufunct\n",
    "def SA_from_SP(psal,lon,lat):\n",
    "    result = gsw.SA_from_SP(psal,woa.pres,lon,lat) #output format of function had to be right, which is why I applied the squeeze function\n",
    "    return np.squeeze(result)\n",
    "\n",
    "\n",
    "result = xr.apply_ufunc(SA_from_SP,woa.sal,woa.lon,woa.lat,\n",
    "                        input_core_dims=[['pres'],[],[]],\n",
    "                        output_core_dims=[[\"pres\"]],\n",
    "                        vectorize=True,\n",
    "                        dask='parallelized',\n",
    "                        output_dtypes=[np.dtype(float)],\n",
    "                        dask_gufunc_kwargs={'output_sizes':{'pres':200}})#\n",
    "\n",
    "woa['SA'] = result.T\n",
    "\n",
    "\n",
    "## Consertvative Temperature\n",
    "def CT_from_t(SA,t):\n",
    "    result = gsw.CT_from_t(SA,t,woa.pres) #output format of function had to be right, which is why I applied the squeeze function\n",
    "    return np.squeeze(result)\n",
    "\n",
    "result = xr.apply_ufunc(CT_from_t,woa.SA,woa.temp,\n",
    "                        input_core_dims=[['pres'],['pres']],\n",
    "                        output_core_dims=[[\"pres\"]],\n",
    "                        vectorize=True,\n",
    "                        dask='parallelized',\n",
    "                        output_dtypes=[np.dtype(float)],\n",
    "                        dask_gufunc_kwargs={'output_sizes':{'pres':200}})#\n",
    "woa['CT'] = result.T"
   ]
  },
  {
   "cell_type": "code",
   "execution_count": 16,
   "id": "3fae4fc5",
   "metadata": {},
   "outputs": [],
   "source": [
    "# 2) ### Buoyancy frequency\n",
    "# the buoyancy frequency is derived based on the density gradient and\n",
    "# thus the output is N-1, which is why we have to define a new output dimension\n",
    "\n",
    "def bfrq(SA,CT,lat):\n",
    "    result = gsw.Nsquared(SA,CT,woa.pres,lat) \n",
    "    return np.squeeze(result[0])\n",
    "\n",
    "result = xr.apply_ufunc(bfrq,woa.SA,woa.CT,woa.lat,\n",
    "                        input_core_dims=[['pres'],['pres'],[]],\n",
    "                        output_core_dims=[[\"pres_new\"]],\n",
    "                        vectorize=True,\n",
    "                        dask='parallelized',\n",
    "                        output_dtypes=[np.dtype(float)],\n",
    "                        dask_gufunc_kwargs={'output_sizes':{'pres_new':199}})#\n",
    "\n",
    "# create xarray, interpolate to woa pres and add to woa dataset\n",
    "dummy = result.rename({'pres_new':'pres'})\n",
    "dummy[\"pres\"] = np.arange(1.5,200.5)\n",
    "woa['bfrq'] = dummy.interp(pres=woa.pres.values,kwargs={\"fill_value\": \"extrapolate\"}).T"
   ]
  }
 ],
 "metadata": {
  "kernelspec": {
   "display_name": "Python 3 (Spyder)",
   "language": "python3",
   "name": "python3"
  },
  "language_info": {
   "codemirror_mode": {
    "name": "ipython",
    "version": 3
   },
   "file_extension": ".py",
   "mimetype": "text/x-python",
   "name": "python",
   "nbconvert_exporter": "python",
   "pygments_lexer": "ipython3",
   "version": "3.9.16"
  }
 },
 "nbformat": 4,
 "nbformat_minor": 5
}
